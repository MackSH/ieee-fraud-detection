{
 "cells": [
  {
   "cell_type": "markdown",
   "id": "4a0de3af",
   "metadata": {},
   "source": [
    "# Notebook 01 – Data Exploration\n",
    "\n",
    "Ce notebook a pour objectif d'explorer les données du challenge **IEEE-CIS Fraud Detection**.  \n",
    "Nous allons analyser la distribution des variables, identifier les corrélations et préparer le terrain pour la modélisation.\n"
   ]
  },
  {
   "cell_type": "code",
   "execution_count": 1,
   "id": "22788be7",
   "metadata": {},
   "outputs": [],
   "source": [
    "import numpy as np\n",
    "import pandas as pd\n",
    "import matplotlib.pyplot as plt\n",
    "import seaborn as sns\n"
   ]
  },
  {
   "cell_type": "markdown",
   "id": "b33022bc",
   "metadata": {},
   "source": [
    "### Chargement des données\n",
    "- Charger train_transaction.csv et train_identity.csv.\n",
    "- Fusionner sur TransactionID."
   ]
  },
  {
   "cell_type": "code",
   "execution_count": 9,
   "id": "987e7dbe",
   "metadata": {},
   "outputs": [],
   "source": [
    "# charger les données et fusionner les dataframes\n",
    "\n",
    "df_train_transaction = pd.read_csv('../Data/train_transaction.csv')\n",
    "df_train_identity = pd.read_csv('../Data/train_identity.csv')\n",
    "df_train = df_train_transaction.merge(df_train_identity,on=['TransactionID'],how='left')\n",
    "df_test_transaction = pd.read_csv('../Data/test_transaction.csv')\n",
    "df_test_identity = pd.read_csv('../Data/test_identity.csv')\n",
    "\n",
    "#some columns (id) are wrongly labeled in test_identity. We will correct it\n",
    "id_cols = [col for col in df_test_identity.columns if col[0]+col[1] == 'id']\n",
    "rename_cols = {i:'id_'+str(i[-2]+i[-1]) for i in id_cols}\n",
    "df_test_identity = df_test_identity.rename(columns=rename_cols)\n",
    "df_test = df_test_transaction.merge(df_test_identity,on=['TransactionID'],how='left')\n",
    "df_train.to_csv('../Data/train_combined.csv',index=False)\n",
    "df_test.to_csv('../Data/test_combined.csv',index=False)"
   ]
  },
  {
   "cell_type": "markdown",
   "id": "0d8a50a2",
   "metadata": {},
   "source": [
    "### Chargeons maintenant les fichiers enregistrés\n"
   ]
  },
  {
   "cell_type": "code",
   "execution_count": 22,
   "id": "23b0495c",
   "metadata": {},
   "outputs": [
    {
     "name": "stdout",
     "output_type": "stream",
     "text": [
      "(590540, 434)\n",
      "(506691, 433)\n"
     ]
    }
   ],
   "source": [
    "df_train = pd.read_csv('../Data/train_combined.csv')\n",
    "df_test = pd.read_csv('../Data/test_combined.csv')\n",
    "print(df_train.shape)\n",
    "print(df_test.shape)"
   ]
  },
  {
   "cell_type": "code",
   "execution_count": 23,
   "id": "4cfde160",
   "metadata": {},
   "outputs": [],
   "source": [
    "def compare_columns(df_train, df_test):\n",
    "    # Colonnes présentes uniquement dans df_train\n",
    "    only_in_train = set(df_train.columns) - set(df_test.columns)\n",
    "    \n",
    "    # Colonnes présentes uniquement dans df_test\n",
    "    only_in_test = set(df_test.columns) - set(df_train.columns)\n",
    "    \n",
    "    # Résumé\n",
    "    print(\"Colonnes uniquement dans df_train :\", len(only_in_train))\n",
    "    print(only_in_train)\n",
    "    print(\"\\nColonnes uniquement dans df_test :\", len(only_in_test))\n",
    "    print(only_in_test)\n",
    "    \n",
    "    return only_in_train, only_in_test\n"
   ]
  },
  {
   "cell_type": "code",
   "execution_count": 24,
   "id": "e7711275",
   "metadata": {},
   "outputs": [
    {
     "name": "stdout",
     "output_type": "stream",
     "text": [
      "Colonnes uniquement dans df_train : 1\n",
      "{'isFraud'}\n",
      "\n",
      "Colonnes uniquement dans df_test : 0\n",
      "set()\n"
     ]
    },
    {
     "data": {
      "text/plain": [
       "({'isFraud'}, set())"
      ]
     },
     "execution_count": 24,
     "metadata": {},
     "output_type": "execute_result"
    }
   ],
   "source": [
    "compare_columns(df_train, df_test)"
   ]
  },
  {
   "cell_type": "markdown",
   "id": "c0dea507",
   "metadata": {},
   "source": [
    "Appercu des données manquantes\n"
   ]
  },
  {
   "cell_type": "code",
   "execution_count": 25,
   "id": "d51c8828",
   "metadata": {},
   "outputs": [],
   "source": [
    "def missing_cols(df, n=10, thresh=80):\n",
    "    \"\"\"\n",
    "    Renvoie les colonnes manquantes dans le dataframe avec des valeurs manquantes de pourcentage > thresh. Si n = Aucun, le dataframe complet sera renvoyé avec des valeurs manquantes de pourcentage > thresh.\n",
    "    \n",
    "    \"\"\"\n",
    "    \n",
    "    dff = (df.isnull().sum()/df.shape[0])*100\n",
    "    dff = dff.reset_index()\n",
    "    dff.columns = ['col','missing_percent']\n",
    "    dff = dff.sort_values(by=['missing_percent'],ascending=False).reset_index(drop=True)\n",
    "    print(f'Il y a {df.isnull().any().sum()} colonnes dans cet ensemble de données avec des valeurs manquantes.')\n",
    "    print(f'Il y a {dff[dff[\"missing_percent\"] > thresh].shape[0]} colonnes avec des valeurs manquantes supérieures à {thresh}%')\n",
    "    if n:\n",
    "        return dff.head(n)\n",
    "    else:\n",
    "        return dff"
   ]
  },
  {
   "cell_type": "code",
   "execution_count": 26,
   "id": "cc056018",
   "metadata": {},
   "outputs": [
    {
     "name": "stdout",
     "output_type": "stream",
     "text": [
      "Il y a 414 colonnes dans cet ensemble de données avec des valeurs manquantes.\n",
      "Il y a 12 colonnes avec des valeurs manquantes supérieures à 90%\n"
     ]
    },
    {
     "data": {
      "text/html": [
       "<div>\n",
       "<style scoped>\n",
       "    .dataframe tbody tr th:only-of-type {\n",
       "        vertical-align: middle;\n",
       "    }\n",
       "\n",
       "    .dataframe tbody tr th {\n",
       "        vertical-align: top;\n",
       "    }\n",
       "\n",
       "    .dataframe thead th {\n",
       "        text-align: right;\n",
       "    }\n",
       "</style>\n",
       "<table border=\"1\" class=\"dataframe\">\n",
       "  <thead>\n",
       "    <tr style=\"text-align: right;\">\n",
       "      <th></th>\n",
       "      <th>col</th>\n",
       "      <th>missing_percent</th>\n",
       "    </tr>\n",
       "  </thead>\n",
       "  <tbody>\n",
       "    <tr>\n",
       "      <th>0</th>\n",
       "      <td>id_24</td>\n",
       "      <td>99.196159</td>\n",
       "    </tr>\n",
       "    <tr>\n",
       "      <th>1</th>\n",
       "      <td>id_25</td>\n",
       "      <td>99.130965</td>\n",
       "    </tr>\n",
       "    <tr>\n",
       "      <th>2</th>\n",
       "      <td>id_07</td>\n",
       "      <td>99.127070</td>\n",
       "    </tr>\n",
       "    <tr>\n",
       "      <th>3</th>\n",
       "      <td>id_08</td>\n",
       "      <td>99.127070</td>\n",
       "    </tr>\n",
       "    <tr>\n",
       "      <th>4</th>\n",
       "      <td>id_21</td>\n",
       "      <td>99.126393</td>\n",
       "    </tr>\n",
       "    <tr>\n",
       "      <th>5</th>\n",
       "      <td>id_26</td>\n",
       "      <td>99.125715</td>\n",
       "    </tr>\n",
       "    <tr>\n",
       "      <th>6</th>\n",
       "      <td>id_22</td>\n",
       "      <td>99.124699</td>\n",
       "    </tr>\n",
       "    <tr>\n",
       "      <th>7</th>\n",
       "      <td>id_27</td>\n",
       "      <td>99.124699</td>\n",
       "    </tr>\n",
       "    <tr>\n",
       "      <th>8</th>\n",
       "      <td>id_23</td>\n",
       "      <td>99.124699</td>\n",
       "    </tr>\n",
       "    <tr>\n",
       "      <th>9</th>\n",
       "      <td>dist2</td>\n",
       "      <td>93.628374</td>\n",
       "    </tr>\n",
       "  </tbody>\n",
       "</table>\n",
       "</div>"
      ],
      "text/plain": [
       "     col  missing_percent\n",
       "0  id_24        99.196159\n",
       "1  id_25        99.130965\n",
       "2  id_07        99.127070\n",
       "3  id_08        99.127070\n",
       "4  id_21        99.126393\n",
       "5  id_26        99.125715\n",
       "6  id_22        99.124699\n",
       "7  id_27        99.124699\n",
       "8  id_23        99.124699\n",
       "9  dist2        93.628374"
      ]
     },
     "execution_count": 26,
     "metadata": {},
     "output_type": "execute_result"
    }
   ],
   "source": [
    "missing_cols(df_train, thresh=90)"
   ]
  },
  {
   "cell_type": "code",
   "execution_count": 15,
   "id": "9630bceb",
   "metadata": {},
   "outputs": [
    {
     "name": "stdout",
     "output_type": "stream",
     "text": [
      "Il y a 385 colonnes dans cet ensemble de données avec des valeurs manquantes.\n",
      "Il y a 10 colonnes avec des valeurs manquantes supérieures à 90%\n"
     ]
    },
    {
     "data": {
      "text/html": [
       "<div>\n",
       "<style scoped>\n",
       "    .dataframe tbody tr th:only-of-type {\n",
       "        vertical-align: middle;\n",
       "    }\n",
       "\n",
       "    .dataframe tbody tr th {\n",
       "        vertical-align: top;\n",
       "    }\n",
       "\n",
       "    .dataframe thead th {\n",
       "        text-align: right;\n",
       "    }\n",
       "</style>\n",
       "<table border=\"1\" class=\"dataframe\">\n",
       "  <thead>\n",
       "    <tr style=\"text-align: right;\">\n",
       "      <th></th>\n",
       "      <th>col</th>\n",
       "      <th>missing_percent</th>\n",
       "    </tr>\n",
       "  </thead>\n",
       "  <tbody>\n",
       "    <tr>\n",
       "      <th>0</th>\n",
       "      <td>id_24</td>\n",
       "      <td>99.064519</td>\n",
       "    </tr>\n",
       "    <tr>\n",
       "      <th>1</th>\n",
       "      <td>id_25</td>\n",
       "      <td>99.005508</td>\n",
       "    </tr>\n",
       "    <tr>\n",
       "      <th>2</th>\n",
       "      <td>id_26</td>\n",
       "      <td>99.003929</td>\n",
       "    </tr>\n",
       "    <tr>\n",
       "      <th>3</th>\n",
       "      <td>id_21</td>\n",
       "      <td>99.001561</td>\n",
       "    </tr>\n",
       "    <tr>\n",
       "      <th>4</th>\n",
       "      <td>id_08</td>\n",
       "      <td>99.001561</td>\n",
       "    </tr>\n",
       "    <tr>\n",
       "      <th>5</th>\n",
       "      <td>id_07</td>\n",
       "      <td>99.001561</td>\n",
       "    </tr>\n",
       "    <tr>\n",
       "      <th>6</th>\n",
       "      <td>id_27</td>\n",
       "      <td>99.000969</td>\n",
       "    </tr>\n",
       "    <tr>\n",
       "      <th>7</th>\n",
       "      <td>id_23</td>\n",
       "      <td>99.000969</td>\n",
       "    </tr>\n",
       "    <tr>\n",
       "      <th>8</th>\n",
       "      <td>id_22</td>\n",
       "      <td>99.000969</td>\n",
       "    </tr>\n",
       "    <tr>\n",
       "      <th>9</th>\n",
       "      <td>dist2</td>\n",
       "      <td>92.809030</td>\n",
       "    </tr>\n",
       "  </tbody>\n",
       "</table>\n",
       "</div>"
      ],
      "text/plain": [
       "     col  missing_percent\n",
       "0  id_24        99.064519\n",
       "1  id_25        99.005508\n",
       "2  id_26        99.003929\n",
       "3  id_21        99.001561\n",
       "4  id_08        99.001561\n",
       "5  id_07        99.001561\n",
       "6  id_27        99.000969\n",
       "7  id_23        99.000969\n",
       "8  id_22        99.000969\n",
       "9  dist2        92.809030"
      ]
     },
     "execution_count": 15,
     "metadata": {},
     "output_type": "execute_result"
    }
   ],
   "source": [
    "missing_cols(df_test, thresh=90)"
   ]
  },
  {
   "cell_type": "code",
   "execution_count": 17,
   "id": "dcab0a9c",
   "metadata": {},
   "outputs": [],
   "source": [
    "def delete_top_missing_cols(df, thresh=90):\n",
    "    \"\"\"\n",
    "    Supprime les colonnes avec des valeurs manquantes de pourcentage > thresh.\n",
    "    \n",
    "    \"\"\"\n",
    "    dff = (df.isnull().sum()/df.shape[0])*100\n",
    "    dff = dff.reset_index()\n",
    "    dff.columns = ['col','missing_percent']\n",
    "    dff = dff.sort_values(by=['missing_percent'],ascending=False).reset_index(drop=True)\n",
    "    cols_to_drop = dff[dff['missing_percent'] > thresh]['col'].values\n",
    "    df = df.drop(columns=cols_to_drop)\n",
    "    return df"
   ]
  },
  {
   "cell_type": "code",
   "execution_count": 20,
   "id": "4d1e40ac",
   "metadata": {},
   "outputs": [],
   "source": [
    "df_train = delete_top_missing_cols(df_train, thresh=90)\n",
    "df_test = delete_top_missing_cols(df_test, thresh=90)"
   ]
  },
  {
   "cell_type": "code",
   "execution_count": 21,
   "id": "f49a20be",
   "metadata": {},
   "outputs": [
    {
     "name": "stdout",
     "output_type": "stream",
     "text": [
      "Il y a 402 colonnes dans cet ensemble de données avec des valeurs manquantes.\n",
      "Il y a 0 colonnes avec des valeurs manquantes supérieures à 90%\n",
      "Il y a 375 colonnes dans cet ensemble de données avec des valeurs manquantes.\n",
      "Il y a 0 colonnes avec des valeurs manquantes supérieures à 90%\n"
     ]
    },
    {
     "data": {
      "text/html": [
       "<div>\n",
       "<style scoped>\n",
       "    .dataframe tbody tr th:only-of-type {\n",
       "        vertical-align: middle;\n",
       "    }\n",
       "\n",
       "    .dataframe tbody tr th {\n",
       "        vertical-align: top;\n",
       "    }\n",
       "\n",
       "    .dataframe thead th {\n",
       "        text-align: right;\n",
       "    }\n",
       "</style>\n",
       "<table border=\"1\" class=\"dataframe\">\n",
       "  <thead>\n",
       "    <tr style=\"text-align: right;\">\n",
       "      <th></th>\n",
       "      <th>col</th>\n",
       "      <th>missing_percent</th>\n",
       "    </tr>\n",
       "  </thead>\n",
       "  <tbody>\n",
       "    <tr>\n",
       "      <th>0</th>\n",
       "      <td>id_18</td>\n",
       "      <td>89.959364</td>\n",
       "    </tr>\n",
       "    <tr>\n",
       "      <th>1</th>\n",
       "      <td>D7</td>\n",
       "      <td>88.132215</td>\n",
       "    </tr>\n",
       "    <tr>\n",
       "      <th>2</th>\n",
       "      <td>id_04</td>\n",
       "      <td>86.879380</td>\n",
       "    </tr>\n",
       "    <tr>\n",
       "      <th>3</th>\n",
       "      <td>id_03</td>\n",
       "      <td>86.879380</td>\n",
       "    </tr>\n",
       "    <tr>\n",
       "      <th>4</th>\n",
       "      <td>D12</td>\n",
       "      <td>86.332104</td>\n",
       "    </tr>\n",
       "    <tr>\n",
       "      <th>5</th>\n",
       "      <td>id_30</td>\n",
       "      <td>86.054814</td>\n",
       "    </tr>\n",
       "    <tr>\n",
       "      <th>6</th>\n",
       "      <td>id_32</td>\n",
       "      <td>86.052446</td>\n",
       "    </tr>\n",
       "    <tr>\n",
       "      <th>7</th>\n",
       "      <td>id_33</td>\n",
       "      <td>86.052446</td>\n",
       "    </tr>\n",
       "    <tr>\n",
       "      <th>8</th>\n",
       "      <td>id_14</td>\n",
       "      <td>85.917058</td>\n",
       "    </tr>\n",
       "    <tr>\n",
       "      <th>9</th>\n",
       "      <td>id_34</td>\n",
       "      <td>85.755618</td>\n",
       "    </tr>\n",
       "    <tr>\n",
       "      <th>10</th>\n",
       "      <td>D9</td>\n",
       "      <td>85.328731</td>\n",
       "    </tr>\n",
       "    <tr>\n",
       "      <th>11</th>\n",
       "      <td>id_10</td>\n",
       "      <td>85.328731</td>\n",
       "    </tr>\n",
       "    <tr>\n",
       "      <th>12</th>\n",
       "      <td>id_09</td>\n",
       "      <td>85.328731</td>\n",
       "    </tr>\n",
       "    <tr>\n",
       "      <th>13</th>\n",
       "      <td>D8</td>\n",
       "      <td>85.328731</td>\n",
       "    </tr>\n",
       "    <tr>\n",
       "      <th>14</th>\n",
       "      <td>V141</td>\n",
       "      <td>85.043153</td>\n",
       "    </tr>\n",
       "    <tr>\n",
       "      <th>15</th>\n",
       "      <td>V139</td>\n",
       "      <td>85.043153</td>\n",
       "    </tr>\n",
       "    <tr>\n",
       "      <th>16</th>\n",
       "      <td>V140</td>\n",
       "      <td>85.043153</td>\n",
       "    </tr>\n",
       "    <tr>\n",
       "      <th>17</th>\n",
       "      <td>V138</td>\n",
       "      <td>85.043153</td>\n",
       "    </tr>\n",
       "    <tr>\n",
       "      <th>18</th>\n",
       "      <td>V142</td>\n",
       "      <td>85.043153</td>\n",
       "    </tr>\n",
       "    <tr>\n",
       "      <th>19</th>\n",
       "      <td>V155</td>\n",
       "      <td>85.043153</td>\n",
       "    </tr>\n",
       "  </tbody>\n",
       "</table>\n",
       "</div>"
      ],
      "text/plain": [
       "      col  missing_percent\n",
       "0   id_18        89.959364\n",
       "1      D7        88.132215\n",
       "2   id_04        86.879380\n",
       "3   id_03        86.879380\n",
       "4     D12        86.332104\n",
       "5   id_30        86.054814\n",
       "6   id_32        86.052446\n",
       "7   id_33        86.052446\n",
       "8   id_14        85.917058\n",
       "9   id_34        85.755618\n",
       "10     D9        85.328731\n",
       "11  id_10        85.328731\n",
       "12  id_09        85.328731\n",
       "13     D8        85.328731\n",
       "14   V141        85.043153\n",
       "15   V139        85.043153\n",
       "16   V140        85.043153\n",
       "17   V138        85.043153\n",
       "18   V142        85.043153\n",
       "19   V155        85.043153"
      ]
     },
     "execution_count": 21,
     "metadata": {},
     "output_type": "execute_result"
    }
   ],
   "source": [
    "missing_cols(df_train, n=20, thresh=90)\n",
    "missing_cols(df_test, n=20, thresh=90)"
   ]
  },
  {
   "cell_type": "code",
   "execution_count": null,
   "id": "da06ced6",
   "metadata": {},
   "outputs": [
    {
     "name": "stdout",
     "output_type": "stream",
     "text": [
      "Il y a 414 colonnes dans cet ensemble de données avec des valeurs manquantes.\n",
      "Il y a 414 colonnes avec des valeurs manquantes supérieures à 0%\n"
     ]
    }
   ],
   "source": []
  },
  {
   "cell_type": "code",
   "execution_count": 15,
   "id": "6f0f93d3",
   "metadata": {},
   "outputs": [
    {
     "data": {
      "text/plain": [
       "(435, 2)"
      ]
     },
     "execution_count": 15,
     "metadata": {},
     "output_type": "execute_result"
    }
   ],
   "source": [
    "cols.shape"
   ]
  },
  {
   "cell_type": "code",
   "execution_count": 8,
   "id": "88898ae9",
   "metadata": {},
   "outputs": [
    {
     "data": {
      "image/png": "[encoded data removed]",
      "text/plain": [
       "<Figure size 800x500 with 1 Axes>"
      ]
     },
     "metadata": {},
     "output_type": "display_data"
    }
   ],
   "source": [
    "plt.figure(figsize=(8,5))\n",
    "ax = sns.countplot(\n",
    "    x=\"isFraud\", \n",
    "    data=df_train, \n",
    "    hue=\"isFraud\",              # on utilise hue sur la même colonne\n",
    "    palette=['#1f77b4','#ff7f0e'],\n",
    "    legend=False                # on désactive la légende inutile\n",
    ")\n",
    "\n",
    "# Ajouter les pourcentages\n",
    "counts = df_train['isFraud'].value_counts(normalize=True).sort_index() * 100\n",
    "for p, perc in zip(ax.patches, counts):\n",
    "    ax.annotate(f'{perc:.2f}%', \n",
    "                (p.get_x() + p.get_width() / 2., p.get_height()), \n",
    "                ha='center', va='bottom', fontsize=10, fontweight='bold')\n",
    "\n",
    "plt.title('Target', fontsize=14)\n",
    "plt.ylabel('count')\n",
    "plt.xlabel('isFraud')\n",
    "plt.show()"
   ]
  },
  {
   "cell_type": "code",
   "execution_count": 11,
   "id": "5814239f",
   "metadata": {},
   "outputs": [
    {
     "data": {
      "image/png": "[encoded data removed]",
      "text/plain": [
       "<Figure size 1400x600 with 1 Axes>"
      ]
     },
     "metadata": {},
     "output_type": "display_data"
    }
   ],
   "source": [
    "plt.figure(figsize=(14,6))\n",
    "\n",
    "# Train\n",
    "sns.histplot(df_train['TransactionDT'], bins=100, color='#1f77b4', label='Train', alpha=0.6)\n",
    "\n",
    "# Test\n",
    "sns.histplot(df_test['TransactionDT'], bins=100, color='#ff7f0e', label='Test', alpha=0.6)\n",
    "\n",
    "plt.title('Train - Test Transaction date - distribution', fontsize=14)\n",
    "plt.xlabel('TransactionDT')\n",
    "plt.ylabel('Count')\n",
    "plt.legend()\n",
    "plt.show()"
   ]
  }
 ],
 "metadata": {
  "kernelspec": {
   "display_name": "formation",
   "language": "python",
   "name": "python3"
  },
  "language_info": {
   "codemirror_mode": {
    "name": "ipython",
    "version": 3
   },
   "file_extension": ".py",
   "mimetype": "text/x-python",
   "name": "python",
   "nbconvert_exporter": "python",
   "pygments_lexer": "ipython3",
   "version": "3.12.9"
  }
 },
 "nbformat": 4,
 "nbformat_minor": 5
}
