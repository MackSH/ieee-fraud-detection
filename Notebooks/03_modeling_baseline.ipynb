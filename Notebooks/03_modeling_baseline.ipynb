{
 "cells": [
  {
   "cell_type": "markdown",
   "id": "623e664d",
   "metadata": {},
   "source": [
    "# Baseline Model\n",
    "\n",
    "L’objectif de ce notebook est de mettre en place un **modèle de référence (baseline)** pour le projet de détection de fraude. Ce modèle servira de point de comparaison pour toutes les améliorations futures et permettra d’évaluer rapidement la performance des différentes approches.\n",
    "\n",
    "Pour cette étape initiale, nous nous concentrons sur trois algorithmes de **gradient boosting**, réputés pour leur efficacité sur des problèmes de classification avec des données structurées :\n",
    "\n",
    "1. **XGBoost** – un modèle performant et largement utilisé pour les problèmes de classification et de régression.  \n",
    "2. **LightGBM** – optimisé pour les grands ensembles de données, offrant rapidité et efficacité mémoire.  \n",
    "3. **CatBoost** – particulièrement efficace pour gérer les variables catégorielles sans avoir besoin d’un encodage manuel complexe.\n",
    "\n",
    "Ce notebook inclura :  \n",
    "- La préparation des données (encodage des variables catégorielles, sélection des features).  \n",
    "- L’entraînement de chaque modèle sur les données d’entraînement.  \n",
    "- L’évaluation des modèles avec des métriques adaptées à la détection de fraude (précision, rappel, F1-score, AUC-ROC).  \n",
    "- Une comparaison des performances pour identifier le modèle de référence le plus performant sur cet ensemble de données.\n"
   ]
  },
  {
   "cell_type": "code",
   "execution_count": 41,
   "id": "a430b72a",
   "metadata": {},
   "outputs": [],
   "source": [
    "import pandas as pd\n",
    "from xgboost import XGBClassifier\n",
    "from lightgbm import LGBMClassifier\n",
    "from all_functions import *\n",
    "import joblib\n",
    "import numpy as np\n",
    "import lightgbm as lgb\n",
    "from catboost import CatBoostClassifier\n",
    "from xgboost import XGBClassifier\n",
    "from sklearn.metrics import roc_auc_score, roc_curve, confusion_matrix"
   ]
  },
  {
   "cell_type": "code",
   "execution_count": 28,
   "id": "330266e6",
   "metadata": {},
   "outputs": [],
   "source": [
    "df_train = pd.read_csv('../Data/train_reduced.csv')"
   ]
  },
  {
   "cell_type": "code",
   "execution_count": 29,
   "id": "217941bf",
   "metadata": {},
   "outputs": [],
   "source": [
    "cat_cols = (['ProductCD'] + \n",
    "            ['card%d' % i for i in range(1, 7)] + \n",
    "            ['addr1', 'addr2', 'P_emaildomain', 'R_emaildomain'] + \n",
    "            ['M%d' % i for i in range(1, 10)] + \n",
    "            ['DeviceType', 'DeviceInfo'] +\n",
    "            ['id_%d' % i for i in range(12, 39)])\n",
    "\n",
    "type_map = {c: str for c in cat_cols}\n",
    "df_train[cat_cols] = df_train[cat_cols].astype(type_map, copy=False)\n",
    "\n",
    "id_cols = ['TransactionID', 'TransactionDT']\n",
    "target = 'isFraud'"
   ]
  },
  {
   "cell_type": "code",
   "execution_count": 30,
   "id": "cdf70a52",
   "metadata": {},
   "outputs": [
    {
     "name": "stdout",
     "output_type": "stream",
     "text": [
      "Nombre de colonnes numériques: 157\n"
     ]
    }
   ],
   "source": [
    "# colonnes du dataframe qui ne sont pas dans cat_cols\n",
    "num_cols = [col for col in df_train.columns if col not in cat_cols + id_cols + [target]]\n",
    "print(f\"Nombre de colonnes numériques: {len(num_cols)}\")\n",
    "# num_cols"
   ]
  },
  {
   "cell_type": "code",
   "execution_count": 31,
   "id": "aeac422a",
   "metadata": {},
   "outputs": [],
   "source": [
    "type_map = {c: 'float64' for c in num_cols}\n",
    "df_train[num_cols] = df_train[num_cols].astype(type_map, copy=False)"
   ]
  },
  {
   "cell_type": "code",
   "execution_count": 32,
   "id": "1ab8bc52",
   "metadata": {},
   "outputs": [
    {
     "name": "stdout",
     "output_type": "stream",
     "text": [
      "Il y a 142 colonnes dans ce jeu de données contenant des valeurs manquantes.\n",
      "Il y a 60 colonnes dont le pourcentage de valeurs manquantes est supérieur à 50%.\n"
     ]
    }
   ],
   "source": [
    "missing_cols = top_missing_cols(df_train, n=None,  thresh=50)"
   ]
  },
  {
   "cell_type": "code",
   "execution_count": 33,
   "id": "461ab099",
   "metadata": {},
   "outputs": [
    {
     "data": {
      "text/html": [
       "<div>\n",
       "<style scoped>\n",
       "    .dataframe tbody tr th:only-of-type {\n",
       "        vertical-align: middle;\n",
       "    }\n",
       "\n",
       "    .dataframe tbody tr th {\n",
       "        vertical-align: top;\n",
       "    }\n",
       "\n",
       "    .dataframe thead th {\n",
       "        text-align: right;\n",
       "    }\n",
       "</style>\n",
       "<table border=\"1\" class=\"dataframe\">\n",
       "  <thead>\n",
       "    <tr style=\"text-align: right;\">\n",
       "      <th></th>\n",
       "      <th>col</th>\n",
       "      <th>missing_percent</th>\n",
       "    </tr>\n",
       "  </thead>\n",
       "  <tbody>\n",
       "    <tr>\n",
       "      <th>0</th>\n",
       "      <td>id_08</td>\n",
       "      <td>99.127070</td>\n",
       "    </tr>\n",
       "    <tr>\n",
       "      <th>1</th>\n",
       "      <td>id_07</td>\n",
       "      <td>99.127070</td>\n",
       "    </tr>\n",
       "    <tr>\n",
       "      <th>2</th>\n",
       "      <td>dist2</td>\n",
       "      <td>93.628374</td>\n",
       "    </tr>\n",
       "    <tr>\n",
       "      <th>3</th>\n",
       "      <td>D7</td>\n",
       "      <td>93.409930</td>\n",
       "    </tr>\n",
       "    <tr>\n",
       "      <th>4</th>\n",
       "      <td>D13</td>\n",
       "      <td>89.509263</td>\n",
       "    </tr>\n",
       "    <tr>\n",
       "      <th>...</th>\n",
       "      <td>...</td>\n",
       "      <td>...</td>\n",
       "    </tr>\n",
       "    <tr>\n",
       "      <th>204</th>\n",
       "      <td>id_36</td>\n",
       "      <td>0.000000</td>\n",
       "    </tr>\n",
       "    <tr>\n",
       "      <th>205</th>\n",
       "      <td>id_37</td>\n",
       "      <td>0.000000</td>\n",
       "    </tr>\n",
       "    <tr>\n",
       "      <th>206</th>\n",
       "      <td>id_38</td>\n",
       "      <td>0.000000</td>\n",
       "    </tr>\n",
       "    <tr>\n",
       "      <th>207</th>\n",
       "      <td>DeviceType</td>\n",
       "      <td>0.000000</td>\n",
       "    </tr>\n",
       "    <tr>\n",
       "      <th>208</th>\n",
       "      <td>DeviceInfo</td>\n",
       "      <td>0.000000</td>\n",
       "    </tr>\n",
       "  </tbody>\n",
       "</table>\n",
       "<p>209 rows × 2 columns</p>\n",
       "</div>"
      ],
      "text/plain": [
       "            col  missing_percent\n",
       "0         id_08        99.127070\n",
       "1         id_07        99.127070\n",
       "2         dist2        93.628374\n",
       "3            D7        93.409930\n",
       "4           D13        89.509263\n",
       "..          ...              ...\n",
       "204       id_36         0.000000\n",
       "205       id_37         0.000000\n",
       "206       id_38         0.000000\n",
       "207  DeviceType         0.000000\n",
       "208  DeviceInfo         0.000000\n",
       "\n",
       "[209 rows x 2 columns]"
      ]
     },
     "execution_count": 33,
     "metadata": {},
     "output_type": "execute_result"
    }
   ],
   "source": [
    "missing_cols"
   ]
  },
  {
   "cell_type": "markdown",
   "id": "aae8f7ae",
   "metadata": {},
   "source": [
    "### Suppression des colonnes avec 80% de valeurs manquantes"
   ]
  },
  {
   "cell_type": "code",
   "execution_count": 34,
   "id": "72e7ebd8",
   "metadata": {},
   "outputs": [],
   "source": [
    "df_train = df_train.drop(columns=missing_cols[missing_cols['missing_percent'] >= 80]['col'])"
   ]
  },
  {
   "cell_type": "code",
   "execution_count": 35,
   "id": "0c15abef",
   "metadata": {},
   "outputs": [
    {
     "name": "stdout",
     "output_type": "stream",
     "text": [
      "Il y a 116 colonnes dans ce jeu de données contenant des valeurs manquantes.\n",
      "Il y a 0 colonnes dont le pourcentage de valeurs manquantes est supérieur à 80%.\n"
     ]
    },
    {
     "data": {
      "text/html": [
       "<div>\n",
       "<style scoped>\n",
       "    .dataframe tbody tr th:only-of-type {\n",
       "        vertical-align: middle;\n",
       "    }\n",
       "\n",
       "    .dataframe tbody tr th {\n",
       "        vertical-align: top;\n",
       "    }\n",
       "\n",
       "    .dataframe thead th {\n",
       "        text-align: right;\n",
       "    }\n",
       "</style>\n",
       "<table border=\"1\" class=\"dataframe\">\n",
       "  <thead>\n",
       "    <tr style=\"text-align: right;\">\n",
       "      <th></th>\n",
       "      <th>col</th>\n",
       "      <th>missing_percent</th>\n",
       "    </tr>\n",
       "  </thead>\n",
       "  <tbody>\n",
       "    <tr>\n",
       "      <th>0</th>\n",
       "      <td>V240</td>\n",
       "      <td>77.913435</td>\n",
       "    </tr>\n",
       "    <tr>\n",
       "      <th>1</th>\n",
       "      <td>V258</td>\n",
       "      <td>77.913435</td>\n",
       "    </tr>\n",
       "    <tr>\n",
       "      <th>2</th>\n",
       "      <td>V241</td>\n",
       "      <td>77.913435</td>\n",
       "    </tr>\n",
       "    <tr>\n",
       "      <th>3</th>\n",
       "      <td>V260</td>\n",
       "      <td>77.913435</td>\n",
       "    </tr>\n",
       "    <tr>\n",
       "      <th>4</th>\n",
       "      <td>V223</td>\n",
       "      <td>77.913435</td>\n",
       "    </tr>\n",
       "    <tr>\n",
       "      <th>5</th>\n",
       "      <td>V226</td>\n",
       "      <td>77.913435</td>\n",
       "    </tr>\n",
       "    <tr>\n",
       "      <th>6</th>\n",
       "      <td>V218</td>\n",
       "      <td>77.913435</td>\n",
       "    </tr>\n",
       "    <tr>\n",
       "      <th>7</th>\n",
       "      <td>V229</td>\n",
       "      <td>77.913435</td>\n",
       "    </tr>\n",
       "    <tr>\n",
       "      <th>8</th>\n",
       "      <td>V264</td>\n",
       "      <td>77.913435</td>\n",
       "    </tr>\n",
       "    <tr>\n",
       "      <th>9</th>\n",
       "      <td>V277</td>\n",
       "      <td>77.913435</td>\n",
       "    </tr>\n",
       "  </tbody>\n",
       "</table>\n",
       "</div>"
      ],
      "text/plain": [
       "    col  missing_percent\n",
       "0  V240        77.913435\n",
       "1  V258        77.913435\n",
       "2  V241        77.913435\n",
       "3  V260        77.913435\n",
       "4  V223        77.913435\n",
       "5  V226        77.913435\n",
       "6  V218        77.913435\n",
       "7  V229        77.913435\n",
       "8  V264        77.913435\n",
       "9  V277        77.913435"
      ]
     },
     "execution_count": 35,
     "metadata": {},
     "output_type": "execute_result"
    }
   ],
   "source": [
    "top_missing_cols(df_train, thresh=80)"
   ]
  },
  {
   "cell_type": "markdown",
   "id": "df044f58",
   "metadata": {},
   "source": [
    "### Encodage des variables catégorielles\n",
    "\n",
    "Dans ce projet, j’ai choisi d’utiliser pd.factorize() pour encoder les variables catégorielles.\n",
    "Ce type d’encodage (Label Encoding) est particulièrement adapté aux modèles basés sur des arbres tels que XGBoost, CatBoost et LightGBM, car ces algorithmes sont capables de traiter efficacement des valeurs entières représentant des catégories sans être influencés par un ordre numérique artificiel.\n",
    "\n",
    "L’objectif est donc de tester la performance de ces modèles avec un encodage compact et rapide, tout en conservant une bonne interprétation des variables catégorielles."
   ]
  },
  {
   "cell_type": "code",
   "execution_count": 36,
   "id": "ac489a53",
   "metadata": {},
   "outputs": [],
   "source": [
    "for col in df_train.columns:\n",
    "    if col in cat_cols:\n",
    "        # Label encode categorical columns\n",
    "        encoded, _ = pd.factorize(df_train[col], sort=True)\n",
    "        \n",
    "        # Check if values fit in int16\n",
    "        if encoded.max() > 32000:\n",
    "            print(col, 'needs int32 datatype')\n",
    "            df_train[col] = encoded.astype('int32')\n",
    "        else:\n",
    "            df_train[col] = encoded.astype('int16')\n"
   ]
  },
  {
   "cell_type": "code",
   "execution_count": 37,
   "id": "dd38c61e",
   "metadata": {},
   "outputs": [],
   "source": [
    "rem_cols = []\n",
    "rem_cols.extend(['TransactionID', 'TransactionDT'])"
   ]
  },
  {
   "cell_type": "markdown",
   "id": "3ce10e6a",
   "metadata": {},
   "source": [
    "Nous créons de nouvelles features temporelles D1n à D15n.\n",
    "Pour chaque colonne D1 à D15, on soustrait TransactionDT (converti en jours) afin de recentrer les variables temporelles par rapport à la date de la transaction.\n",
    "Cette transformation permet aux modèles basés sur les arbres (XGBoost, CatBoost, LightGBM) de mieux capturer les patterns temporels liés à la fraude."
   ]
  },
  {
   "cell_type": "code",
   "execution_count": 38,
   "id": "cdce6147",
   "metadata": {},
   "outputs": [],
   "source": [
    "new_cols = {}\n",
    "for i in range(1, 16):\n",
    "    orig_col = 'D' + str(i)\n",
    "    if orig_col in df_train.columns:\n",
    "        new_cols[orig_col + 'n'] = df_train[orig_col] - df_train['TransactionDT'] / np.float32(24*60*60)\n",
    "\n",
    "# Ajouter toutes les colonnes en une seule fois\n",
    "df_train = pd.concat([df_train, pd.DataFrame(new_cols)], axis=1)\n"
   ]
  },
  {
   "cell_type": "markdown",
   "id": "9f597649",
   "metadata": {},
   "source": [
    "### Scaling des variables numériques"
   ]
  },
  {
   "cell_type": "code",
   "execution_count": 39,
   "id": "18a5a7e4",
   "metadata": {},
   "outputs": [],
   "source": [
    "\n",
    "cols = [col for col in df_train.columns if col not in rem_cols]\n",
    "\n",
    "for col in cols:\n",
    "    if col not in cat_cols:\n",
    "        # Min-Max scaling\n",
    "        scaled = (df_train[col] - df_train[col].min()) / (df_train[col].max() - df_train[col].min())\n",
    "        scaled.fillna(-1, inplace=True)  # Remplacer les NaN par -1\n",
    "        df_train[col] = scaled\n"
   ]
  },
  {
   "cell_type": "code",
   "execution_count": 40,
   "id": "6aaa3f1d",
   "metadata": {},
   "outputs": [
    {
     "name": "stdout",
     "output_type": "stream",
     "text": [
      "Proportion de 1 dans le train: 0.03498916246147594\n",
      "Proportion de 1 dans le test: 0.0349933958749619\n"
     ]
    }
   ],
   "source": [
    "from sklearn.model_selection import train_test_split\n",
    "\n",
    "# X = features, y = target\n",
    "X = df_train.drop(columns=['isFraud'])  # exemple, ta target = 'isFraud'\n",
    "y = df_train['isFraud']\n",
    "\n",
    "# Split stratifié pour garder la proportion des classes\n",
    "X_train, X_test, y_train, y_test = train_test_split(\n",
    "    X, y,\n",
    "    test_size=0.2,          # 20% pour le test\n",
    "    random_state=42,        # pour reproductibilité\n",
    "    stratify=y              # stratification selon la target\n",
    ")\n",
    "\n",
    "print(\"Proportion de 1 dans le train:\", y_train.mean())\n",
    "print(\"Proportion de 1 dans le test:\", y_test.mean())\n"
   ]
  },
  {
   "cell_type": "markdown",
   "id": "720a5d9b",
   "metadata": {},
   "source": [
    "### Entrainement et comparaison des modèles"
   ]
  },
  {
   "cell_type": "markdown",
   "id": "44a31aff",
   "metadata": {},
   "source": [
    "XGBoost fonction"
   ]
  },
  {
   "cell_type": "code",
   "execution_count": 42,
   "id": "d2d65f1c",
   "metadata": {},
   "outputs": [],
   "source": [
    "def train_xgb(X_train, y_train, X_test, y_test, cols):\n",
    "    pos = y_train.sum()\n",
    "    neg = len(y_train) - pos\n",
    "    scale_pos_weight = neg / pos if pos > 0 else 1.0\n",
    "\n",
    "    clf = XGBClassifier(\n",
    "        n_estimators=1000,\n",
    "        max_depth=10,\n",
    "        learning_rate=0.02,\n",
    "        subsample=0.8,\n",
    "        colsample_bytree=0.5,\n",
    "        missing=-1,\n",
    "        eval_metric='auc',\n",
    "        scale_pos_weight=scale_pos_weight,\n",
    "        tree_method='hist',\n",
    "        random_state=42\n",
    "    )\n",
    "\n",
    "    clf.fit(X_train[cols], y_train)\n",
    "    y_pred_proba = clf.predict_proba(X_test[cols])[:, 1]\n",
    "    y_pred = (y_pred_proba > 0.5).astype(int)\n",
    "\n",
    "    score = roc_auc_score(y_test, y_pred_proba)\n",
    "    fpr, tpr, _ = roc_curve(y_test, y_pred_proba)\n",
    "    cm = confusion_matrix(y_test, y_pred)\n",
    "\n",
    "    return score, clf, fpr, tpr, cm"
   ]
  },
  {
   "cell_type": "markdown",
   "id": "7d37e199",
   "metadata": {},
   "source": [
    "Fonction CatBoost"
   ]
  },
  {
   "cell_type": "code",
   "execution_count": 43,
   "id": "5565ed07",
   "metadata": {},
   "outputs": [],
   "source": [
    "def train_catboost(X_train, y_train, X_test, y_test, cols):\n",
    "    clf = CatBoostClassifier(\n",
    "        iterations=1000,\n",
    "        depth=10,\n",
    "        learning_rate=0.02,\n",
    "        eval_metric='AUC',\n",
    "        random_seed=42,\n",
    "        verbose=100,\n",
    "        scale_pos_weight=(len(y_train) - y_train.sum()) / y_train.sum()\n",
    "    )\n",
    "\n",
    "    clf.fit(X_train[cols], y_train, eval_set=(X_test[cols], y_test), verbose=100)\n",
    "    y_pred_proba = clf.predict_proba(X_test[cols])[:, 1]\n",
    "    y_pred = (y_pred_proba > 0.5).astype(int)\n",
    "\n",
    "    score = roc_auc_score(y_test, y_pred_proba)\n",
    "    fpr, tpr, _ = roc_curve(y_test, y_pred_proba)\n",
    "    cm = confusion_matrix(y_test, y_pred)\n",
    "\n",
    "    return score, clf, fpr, tpr, cm"
   ]
  },
  {
   "cell_type": "markdown",
   "id": "cf91ea22",
   "metadata": {},
   "source": [
    "Fonction LightGBM"
   ]
  },
  {
   "cell_type": "code",
   "execution_count": 44,
   "id": "db14870a",
   "metadata": {},
   "outputs": [],
   "source": [
    "def train_lightgbm(X_train, y_train, X_test, y_test, cols):\n",
    "    pos_weight = (len(y_train) - y_train.sum()) / y_train.sum()\n",
    "\n",
    "    clf = lgb.LGBMClassifier(\n",
    "        n_estimators=1000,\n",
    "        max_depth=10,\n",
    "        learning_rate=0.02,\n",
    "        subsample=0.8,\n",
    "        colsample_bytree=0.5,\n",
    "        random_state=42,\n",
    "        class_weight={0: 1, 1: pos_weight}\n",
    "    )\n",
    "\n",
    "    clf.fit(X_train[cols], y_train)\n",
    "    y_pred_proba = clf.predict_proba(X_test[cols])[:, 1]\n",
    "    y_pred = (y_pred_proba > 0.5).astype(int)\n",
    "\n",
    "    score = roc_auc_score(y_test, y_pred_proba)\n",
    "    fpr, tpr, _ = roc_curve(y_test, y_pred_proba)\n",
    "    cm = confusion_matrix(y_test, y_pred)\n",
    "\n",
    "    return score, clf, fpr, tpr, cm"
   ]
  },
  {
   "cell_type": "markdown",
   "id": "c06da7ff",
   "metadata": {},
   "source": [
    "Fonction pour comparer les modèles"
   ]
  },
  {
   "cell_type": "code",
   "execution_count": null,
   "id": "d673d81f",
   "metadata": {},
   "outputs": [],
   "source": [
    "def compare_models(X_train, y_train, X_test, y_test, cols, save_path=\"best_model.joblib\"):\n",
    "    results = {}\n",
    "    metrics = {}\n",
    "\n",
    "    # ---- XGBoost ----\n",
    "    xgb_score, xgb_model, xgb_fpr, xgb_tpr, xgb_cm = train_xgb(X_train, y_train, X_test, y_test, cols)\n",
    "    results['XGBoost'] = xgb_score\n",
    "    metrics['XGBoost'] = {'fpr': xgb_fpr, 'tpr': xgb_tpr, 'cm': xgb_cm}\n",
    "\n",
    "    # ---- CatBoost ----\n",
    "    cat_score, cat_model, cat_fpr, cat_tpr, cat_cm = train_catboost(X_train, y_train, X_test, y_test, cols)\n",
    "    results['CatBoost'] = cat_score\n",
    "    metrics['CatBoost'] = {'fpr': cat_fpr, 'tpr': cat_tpr, 'cm': cat_cm}\n",
    "\n",
    "    # ---- LightGBM ----\n",
    "    lgb_score, lgb_model, lgb_fpr, lgb_tpr, lgb_cm = train_lightgbm(X_train, y_train, X_test, y_test, cols)\n",
    "    results['LightGBM'] = lgb_score\n",
    "    metrics['LightGBM'] = {'fpr': lgb_fpr, 'tpr': lgb_tpr, 'cm': lgb_cm}\n",
    "\n",
    "    # ---- Résumé ----\n",
    "    print(\"\\nROC-AUC Scores:\")\n",
    "    for name, score in results.items():\n",
    "        print(f\"{name}: {score:.5f}\")\n",
    "\n",
    "    # ---- Sauvegarde du meilleur modèle ----\n",
    "    best_model_name = max(results, key=results.get)\n",
    "    best_model = {\n",
    "        'name': best_model_name,\n",
    "        'model': {\n",
    "            'XGBoost': xgb_model,\n",
    "            'CatBoost': cat_model,\n",
    "            'LightGBM': lgb_model\n",
    "        }[best_model_name],\n",
    "        'score': results[best_model_name]\n",
    "    }\n",
    "\n",
    "    # Sauvegarde avec joblib\n",
    "    joblib.dump(best_model, save_path)\n",
    "    print(f\"\\nBest model saved: {best_model_name} (ROC-AUC = {best_model['score']:.5f})\")\n",
    "    print(f\"Saved to: {save_path}\")\n",
    "\n",
    "    return results, metrics, best_model"
   ]
  },
  {
   "cell_type": "code",
   "execution_count": 46,
   "id": "8ec3be97",
   "metadata": {},
   "outputs": [
    {
     "name": "stdout",
     "output_type": "stream",
     "text": [
      "0:\ttest: 0.8478822\tbest: 0.8478822 (0)\ttotal: 1.45s\tremaining: 24m 3s\n",
      "100:\ttest: 0.8998529\tbest: 0.8998529 (100)\ttotal: 2m 24s\tremaining: 21m 29s\n",
      "200:\ttest: 0.9179392\tbest: 0.9179392 (200)\ttotal: 4m 39s\tremaining: 18m 30s\n",
      "300:\ttest: 0.9279420\tbest: 0.9279420 (300)\ttotal: 6m 52s\tremaining: 15m 59s\n",
      "400:\ttest: 0.9343735\tbest: 0.9343735 (400)\ttotal: 9m 1s\tremaining: 13m 28s\n",
      "500:\ttest: 0.9395169\tbest: 0.9395169 (500)\ttotal: 12m 24s\tremaining: 12m 21s\n",
      "600:\ttest: 0.9438122\tbest: 0.9438122 (600)\ttotal: 15m 17s\tremaining: 10m 9s\n",
      "700:\ttest: 0.9491772\tbest: 0.9491772 (700)\ttotal: 17m 31s\tremaining: 7m 28s\n",
      "800:\ttest: 0.9554935\tbest: 0.9554935 (800)\ttotal: 19m 52s\tremaining: 4m 56s\n",
      "900:\ttest: 0.9586033\tbest: 0.9586033 (900)\ttotal: 22m 17s\tremaining: 2m 26s\n",
      "999:\ttest: 0.9608306\tbest: 0.9608306 (999)\ttotal: 24m 37s\tremaining: 0us\n",
      "\n",
      "bestTest = 0.9608306481\n",
      "bestIteration = 999\n",
      "\n",
      "[LightGBM] [Info] Number of positive: 16530, number of negative: 455902\n",
      "[LightGBM] [Info] Auto-choosing row-wise multi-threading, the overhead of testing was 0.307571 seconds.\n",
      "You can set `force_row_wise=true` to remove the overhead.\n",
      "And if memory is not enough, you can set `force_col_wise=true`.\n",
      "[LightGBM] [Info] Total Bins 17818\n",
      "[LightGBM] [Info] Number of data points in the train set: 472432, number of used features: 189\n",
      "[LightGBM] [Info] [binary:BoostFromScore]: pavg=0.500000 -> initscore=0.000000\n",
      "[LightGBM] [Info] Start training from score 0.000000\n",
      "\n",
      "ROC-AUC Scores:\n",
      "XGBoost: 0.97120\n",
      "CatBoost: 0.96083\n",
      "LightGBM: 0.94522\n",
      "\n",
      "✅ Best model saved: XGBoost (ROC-AUC = 0.97120)\n",
      "📁 Saved to: best_model.joblib\n"
     ]
    }
   ],
   "source": [
    "cols_to_use = X_train.columns.tolist()\n",
    "results, metrics, best_model = compare_models(X_train, y_train, X_test, y_test, cols_to_use)\n"
   ]
  },
  {
   "cell_type": "code",
   "execution_count": 47,
   "id": "42b91ff9",
   "metadata": {},
   "outputs": [
    {
     "data": {
      "image/png": "[encoded data removed]",
      "text/plain": [
       "<Figure size 800x600 with 1 Axes>"
      ]
     },
     "metadata": {},
     "output_type": "display_data"
    }
   ],
   "source": [
    "import matplotlib.pyplot as plt\n",
    "\n",
    "plt.figure(figsize=(8,6))\n",
    "for name, data in metrics.items():\n",
    "    plt.plot(data['fpr'], data['tpr'], label=f\"{name} (AUC={results[name]:.3f})\")\n",
    "plt.plot([0,1], [0,1], 'k--')\n",
    "plt.title(\"Courbes ROC - Comparaison des modèles\")\n",
    "plt.xlabel(\"Taux de faux positifs\")\n",
    "plt.ylabel(\"Taux de vrais positifs\")\n",
    "plt.legend()\n",
    "plt.show()\n"
   ]
  },
  {
   "cell_type": "code",
   "execution_count": 56,
   "id": "04a6e60b",
   "metadata": {},
   "outputs": [
    {
     "data": {
      "text/plain": [
       "<Figure size 640x480 with 0 Axes>"
      ]
     },
     "metadata": {},
     "output_type": "display_data"
    },
    {
     "data": {
      "image/png": "[encoded data removed]",
      "text/plain": [
       "<Figure size 640x480 with 2 Axes>"
      ]
     },
     "metadata": {},
     "output_type": "display_data"
    },
    {
     "data": {
      "text/plain": [
       "<Figure size 640x480 with 0 Axes>"
      ]
     },
     "metadata": {},
     "output_type": "display_data"
    },
    {
     "data": {
      "image/png": "[encoded data removed]",
      "text/plain": [
       "<Figure size 640x480 with 2 Axes>"
      ]
     },
     "metadata": {},
     "output_type": "display_data"
    },
    {
     "data": {
      "text/plain": [
       "<Figure size 640x480 with 0 Axes>"
      ]
     },
     "metadata": {},
     "output_type": "display_data"
    },
    {
     "data": {
      "image/png": "[encoded data removed]",
      "text/plain": [
       "<Figure size 640x480 with 2 Axes>"
      ]
     },
     "metadata": {},
     "output_type": "display_data"
    }
   ],
   "source": [
    "import matplotlib.pyplot as plt\n",
    "from sklearn.metrics import ConfusionMatrixDisplay\n",
    "\n",
    "for model_name, model_metrics in metrics.items():\n",
    "    plt.figure()\n",
    "    ConfusionMatrixDisplay(model_metrics['cm']).plot(cmap='Blues')\n",
    "    plt.title(f\"Matrice de confusion - {model_name}\")\n",
    "    plt.show()\n"
   ]
  },
  {
   "cell_type": "code",
   "execution_count": 50,
   "id": "65b57b63",
   "metadata": {},
   "outputs": [
    {
     "data": {
      "text/plain": [
       "{'XGBoost': {'fpr': array([0.        , 0.        , 0.        , ..., 0.99997368, 0.99999123,\n",
       "         1.        ]),\n",
       "  'tpr': array([0.00000000e+00, 2.41954996e-04, 3.43576095e-02, ...,\n",
       "         1.00000000e+00, 1.00000000e+00, 1.00000000e+00]),\n",
       "  'cm': array([[111725,   2250],\n",
       "         [   749,   3384]])},\n",
       " 'CatBoost': {'fpr': array([0.        , 0.        , 0.        , ..., 0.99961395, 0.9996315 ,\n",
       "         1.        ]),\n",
       "  'tpr': array([0.00000000e+00, 2.41954996e-04, 6.04887491e-03, ...,\n",
       "         1.00000000e+00, 1.00000000e+00, 1.00000000e+00]),\n",
       "  'cm': array([[107709,   6266],\n",
       "         [   672,   3461]])},\n",
       " 'LightGBM': {'fpr': array([0.        , 0.        , 0.        , ..., 0.99987717, 0.99998245,\n",
       "         1.        ]),\n",
       "  'tpr': array([0.00000000e+00, 2.41954996e-04, 3.38736995e-03, ...,\n",
       "         1.00000000e+00, 1.00000000e+00, 1.00000000e+00]),\n",
       "  'cm': array([[103894,  10081],\n",
       "         [   681,   3452]])}}"
      ]
     },
     "execution_count": 50,
     "metadata": {},
     "output_type": "execute_result"
    }
   ],
   "source": [
    "metrics"
   ]
  },
  {
   "cell_type": "code",
   "execution_count": null,
   "id": "339d78e8",
   "metadata": {},
   "outputs": [
    {
     "name": "stdout",
     "output_type": "stream",
     "text": [
      "Index(['TransactionID', 'isFraud', 'TransactionDT', 'TransactionAmt',\n",
      "       'ProductCD', 'card1', 'card2', 'card3', 'card4', 'card5',\n",
      "       ...\n",
      "       'DeviceType', 'DeviceInfo', 'D1n', 'D2n', 'D3n', 'D4n', 'D5n', 'D10n',\n",
      "       'D11n', 'D15n'],\n",
      "      dtype='object', length=191)\n"
     ]
    }
   ],
   "source": []
  },
  {
   "cell_type": "code",
   "execution_count": 59,
   "id": "cc9c8071",
   "metadata": {},
   "outputs": [
    {
     "name": "stdout",
     "output_type": "stream",
     "text": [
      "Saved 191 column names to df_train_columns.txt\n"
     ]
    }
   ],
   "source": [
    "# save df_train column names as a Python list in a .txt file\n",
    "cols_list = df_train.columns.tolist()\n",
    "with open(\"df_train_columns.txt\", \"w\", encoding=\"utf-8\") as f:\n",
    "    f.write(str(cols_list))\n",
    "\n",
    "print(f\"Saved {len(cols_list)} column names to df_train_columns.txt\")"
   ]
  }
 ],
 "metadata": {
  "kernelspec": {
   "display_name": "formation",
   "language": "python",
   "name": "python3"
  },
  "language_info": {
   "codemirror_mode": {
    "name": "ipython",
    "version": 3
   },
   "file_extension": ".py",
   "mimetype": "text/x-python",
   "name": "python",
   "nbconvert_exporter": "python",
   "pygments_lexer": "ipython3",
   "version": "3.12.9"
  }
 },
 "nbformat": 4,
 "nbformat_minor": 5
}
